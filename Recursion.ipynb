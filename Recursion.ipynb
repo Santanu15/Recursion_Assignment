{
 "cells": [
  {
   "cell_type": "code",
   "execution_count": null,
   "id": "0926ea3f-1b08-4146-862e-66099d258c3e",
   "metadata": {},
   "outputs": [],
   "source": []
  },
  {
   "cell_type": "code",
   "execution_count": 1,
   "id": "e2dc2dcd-e4e4-4e8d-b0ae-6d846e3b8f6a",
   "metadata": {},
   "outputs": [],
   "source": [
    "#Write a recursive function to calculate the sum of digits of a given positive integer. sum_of_digits(123) -> 6"
   ]
  },
  {
   "cell_type": "code",
   "execution_count": 2,
   "id": "a1e60e5a-6679-41e4-8f11-92a7494bfb76",
   "metadata": {},
   "outputs": [
    {
     "data": {
      "text/plain": [
       "6"
      ]
     },
     "execution_count": 2,
     "metadata": {},
     "output_type": "execute_result"
    }
   ],
   "source": [
    "def add_num(n):\n",
    "    if n < 10:\n",
    "        return n\n",
    "    else:\n",
    "        return n%10 + add_num(n//10)\n",
    "    \n",
    "    \n",
    "n=123\n",
    "add_num(n)"
   ]
  },
  {
   "cell_type": "code",
   "execution_count": null,
   "id": "38ceaa9b-7747-4bfe-adf3-56564be0c400",
   "metadata": {},
   "outputs": [],
   "source": []
  },
  {
   "cell_type": "code",
   "execution_count": null,
   "id": "4ec87381-a6ee-4294-aac9-10f74830fc97",
   "metadata": {},
   "outputs": [],
   "source": []
  },
  {
   "cell_type": "code",
   "execution_count": 3,
   "id": "c2cbdd5a-82fc-465d-b1ec-fda64d9116cc",
   "metadata": {},
   "outputs": [],
   "source": [
    "#Write a recursive function to generate the first n numbers of the Fibonacci series. fibonacci_series(6) -> [0, 1, 1, 2, 3, 5]"
   ]
  },
  {
   "cell_type": "code",
   "execution_count": 4,
   "id": "4e5cede5-51f9-49ee-8a23-7ef96841099c",
   "metadata": {},
   "outputs": [
    {
     "data": {
      "text/plain": [
       "[0, 1, 1, 2, 3, 5]"
      ]
     },
     "execution_count": 4,
     "metadata": {},
     "output_type": "execute_result"
    }
   ],
   "source": [
    "def fib(n):\n",
    "    if n<=0:\n",
    "        return []\n",
    "    elif n==1:\n",
    "        return [0]\n",
    "    elif n==2:\n",
    "        return [0,1]\n",
    "    else:\n",
    "        fib_series=fib(n-1)\n",
    "        fib_series.append(fib_series[-1]+fib_series[-2])\n",
    "        return fib_series\n",
    "    \n",
    "    \n",
    "n=6\n",
    "fib(n)\n",
    "    \n",
    "    \n",
    "    "
   ]
  },
  {
   "cell_type": "code",
   "execution_count": null,
   "id": "0fc10e0c-9b07-493c-8388-95f35804124c",
   "metadata": {},
   "outputs": [],
   "source": []
  },
  {
   "cell_type": "code",
   "execution_count": null,
   "id": "bec40234-d4f3-441f-9a8c-c6e95a0d4343",
   "metadata": {},
   "outputs": [],
   "source": []
  },
  {
   "cell_type": "code",
   "execution_count": 5,
   "id": "525f9622-15d1-4fb1-8de4-955793bc1c7d",
   "metadata": {},
   "outputs": [],
   "source": [
    "#Given a set of positive integers and a target sum, write a recursive function to determine if there exists a subset of the integers that adds up to the target sum."
   ]
  },
  {
   "cell_type": "code",
   "execution_count": 6,
   "id": "9811b8ad-9060-47e4-b011-7897ccc1ed70",
   "metadata": {},
   "outputs": [
    {
     "data": {
      "text/plain": [
       "True"
      ]
     },
     "execution_count": 6,
     "metadata": {},
     "output_type": "execute_result"
    }
   ],
   "source": [
    "def subset(n,target):\n",
    "    if target==0:\n",
    "        return True\n",
    "    elif not n or  target<0:\n",
    "        return False\n",
    "    else:\n",
    "        return subset(n[:-1], target-n[-1]) or subset(n[:-1], target)\n",
    "    \n",
    "\n",
    "    \n",
    "n=[3,34, 4, 12, 5, 2]\n",
    "target=9\n",
    "subset(n,target)"
   ]
  },
  {
   "cell_type": "code",
   "execution_count": null,
   "id": "d2caf75c-e7c7-49d1-a86c-2a45eaa9ffd5",
   "metadata": {},
   "outputs": [],
   "source": []
  },
  {
   "cell_type": "code",
   "execution_count": null,
   "id": "0c06e4e7-88fa-48d4-a181-176655714834",
   "metadata": {},
   "outputs": [],
   "source": []
  },
  {
   "cell_type": "code",
   "execution_count": null,
   "id": "75a22972-a747-4bcd-b41a-ecfeef5a823d",
   "metadata": {},
   "outputs": [],
   "source": []
  },
  {
   "cell_type": "code",
   "execution_count": null,
   "id": "b0293467-f443-4c7c-bdf9-15939525bcf1",
   "metadata": {},
   "outputs": [],
   "source": []
  },
  {
   "cell_type": "code",
   "execution_count": null,
   "id": "7efc4004-1a83-4f75-8c75-6929e496c94e",
   "metadata": {},
   "outputs": [],
   "source": []
  }
 ],
 "metadata": {
  "kernelspec": {
   "display_name": "Python 3 (ipykernel)",
   "language": "python",
   "name": "python3"
  },
  "language_info": {
   "codemirror_mode": {
    "name": "ipython",
    "version": 3
   },
   "file_extension": ".py",
   "mimetype": "text/x-python",
   "name": "python",
   "nbconvert_exporter": "python",
   "pygments_lexer": "ipython3",
   "version": "3.10.8"
  }
 },
 "nbformat": 4,
 "nbformat_minor": 5
}
